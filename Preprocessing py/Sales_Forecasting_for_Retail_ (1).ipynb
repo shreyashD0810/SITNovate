{
  "cells": [
    {
      "cell_type": "code",
      "execution_count": null,
      "metadata": {
        "id": "QlvbjktH0S9v"
      },
      "outputs": [],
      "source": [
        "import pandas as pd\n",
        "import numpy as np\n",
        "from datetime import datetime, timedelta\n",
        "\n",
        "# Load dataset\n",
        "df = pd.read_csv('superstore.csv')\n",
        "\n",
        "df.head()"
      ]
    },
    {
      "cell_type": "code",
      "execution_count": null,
      "metadata": {
        "id": "f0l6iyko2xb3"
      },
      "outputs": [],
      "source": [
        "df.isnull().sum()"
      ]
    },
    {
      "cell_type": "code",
      "execution_count": null,
      "metadata": {
        "id": "dF4l9W9u3E9S"
      },
      "outputs": [],
      "source": [
        "df.drop(columns=['记录数'], inplace=True)"
      ]
    },
    {
      "cell_type": "code",
      "execution_count": null,
      "metadata": {
        "id": "Co2h2O9f3VD5"
      },
      "outputs": [],
      "source": [
        "df.head()"
      ]
    },
    {
      "cell_type": "code",
      "execution_count": null,
      "metadata": {
        "id": "AVAaIwCD4V-r"
      },
      "outputs": [],
      "source": [
        "import pandas as pd\n",
        "\n",
        "# Load dataset\n",
        "\n",
        "# Rename for consistency\n",
        "df.rename(columns={'Order.Date': 'order_date', 'Market': 'market', 'City': 'city', 'Country': 'country'}, inplace=True)\n",
        "\n",
        "# Display dataset info\n",
        "print(df.info())\n"
      ]
    },
    {
      "cell_type": "code",
      "execution_count": null,
      "metadata": {
        "id": "RI1-g1tt3YiR"
      },
      "outputs": [],
      "source": [
        "# Convert 'order_date' to datetime format\n",
        "df['order_date'] = pd.to_datetime(df['order_date'], errors='coerce')\n",
        "\n",
        "# Check if the conversion was successful\n",
        "print(df['order_date'].dtype)  # Should print 'datetime64[ns]'\n",
        "\n",
        "# Now you can apply datetime functions\n",
        "df['is_weekend'] = df['order_date'].dt.weekday.isin([5, 6]).astype(int)  # 5 = Saturday, 6 = Sunday\n",
        "\n",
        "\n",
        "df.rename(columns={'Order.Date': 'order_date'}, inplace=True)\n",
        "\n",
        "# 🔹 Add `is_weekend`\n",
        "df['is_weekend'] = df['order_date'].dt.weekday.isin([5, 6]).astype(int)  # 5 = Saturday, 6 = Sunday\n",
        "\n",
        "# 🔹 Add `month`, `quarter`\n",
        "df['month'] = df['order_date'].dt.month\n",
        "df['quarter'] = df['order_date'].dt.quarter\n",
        "\n",
        "# 🔹 Add `week_of_year`\n",
        "df['week_of_year'] = df['order_date'].dt.isocalendar().week\n",
        "\n",
        "# 🔹 Add `season`\n",
        "def get_season(month):\n",
        "    if month in [12, 1, 2]:\n",
        "        return 'Winter'\n",
        "    elif month in [3, 4, 5]:\n",
        "        return 'Spring'\n",
        "    elif month in [6, 7, 8]:\n",
        "        return 'Summer'\n",
        "    else:\n",
        "        return 'Fall'\n",
        "\n",
        "df['season'] = df['month'].apply(get_season)\n",
        "\n",
        "# 🔹 Add `is_holiday`\n",
        "# Define a list of known holidays (can be expanded)\n",
        "holidays = {\n",
        "    'New Year': '01-01',\n",
        "    'Christmas': '12-25',\n",
        "    'Independence Day': '07-04',\n",
        "    'Thanksgiving': '11-23',\n",
        "    'Labor Day': '09-01',\n",
        "}\n",
        "\n",
        "# Function to check if a date is a holiday\n",
        "def is_holiday(date):\n",
        "    date_str = date.strftime(\"%m-%d\")\n",
        "    return int(date_str in holidays.values())\n",
        "\n",
        "df['is_holiday'] = df['order_date'].apply(is_holiday)\n",
        "\n",
        "# 🔹 Add `days_before_holiday` and `days_after_holiday`\n",
        "holiday_dates = [datetime(df['order_date'].dt.year.min(), int(h.split('-')[0]), int(h.split('-')[1])) for h in holidays.values()]\n",
        "\n",
        "def get_days_to_holiday(date, direction=1):\n",
        "    \"\"\" direction = 1 for future holidays, -1 for past holidays \"\"\"\n",
        "    if direction == 1:\n",
        "        future_holidays = [h for h in holiday_dates if h >= date]\n",
        "        return (min(future_holidays, default=date) - date).days if future_holidays else np.nan\n",
        "    else:\n",
        "        past_holidays = [h for h in holiday_dates if h <= date]\n",
        "        return (date - max(past_holidays, default=date)).days if past_holidays else np.nan\n",
        "\n",
        "df['days_before_holiday'] = df['order_date'].apply(lambda x: get_days_to_holiday(x, 1))\n",
        "df['days_after_holiday'] = df['order_date'].apply(lambda x: get_days_to_holiday(x, -1))\n",
        "\n",
        "# 🔹 Display Updated Data\n",
        "print(df[['order_date', 'is_weekend', 'month', 'quarter', 'season', 'is_holiday', 'days_before_holiday', 'days_after_holiday', 'week_of_year']].head())"
      ]
    },
    {
      "cell_type": "code",
      "execution_count": null,
      "metadata": {
        "id": "2DwRx08f309y"
      },
      "outputs": [],
      "source": [
        "import pandas as pd\n",
        "\n",
        "pd.set_option('display.max_columns', None)\n",
        "df.head()"
      ]
    },
    {
      "cell_type": "code",
      "execution_count": null,
      "metadata": {
        "id": "bMoGF9i9X1el"
      },
      "outputs": [],
      "source": [
        "import requests\n",
        "import pandas as pd\n",
        "\n",
        "def fetch_oil_prices_alpha_vantage(api_key):\n",
        "    url = f\"https://www.alphavantage.co/query?function=WTI&apikey={api_key}\"\n",
        "\n",
        "    response = requests.get(url)\n",
        "    if response.status_code == 200:\n",
        "        data = response.json()\n",
        "        if \"data\" in data:\n",
        "            df = pd.DataFrame(data[\"data\"])\n",
        "            df = df.rename(columns={\"date\": \"order_date\", \"value\": \"oil_price\"})\n",
        "            df[\"order_date\"] = pd.to_datetime(df[\"order_date\"])\n",
        "            return df\n",
        "        else:\n",
        "            print(\"No valid data found in response.\")\n",
        "    else:\n",
        "        print(f\"Error fetching data: {response.status_code}\")\n",
        "    return pd.DataFrame()\n",
        "\n",
        "# Replace with your Alpha Vantage API Key\n",
        "alpha_vantage_api_key = \"9QTSDG5457V95M10\"\n",
        "oil_prices_df = fetch_oil_prices_alpha_vantage(alpha_vantage_api_key)\n",
        "\n",
        "print(oil_prices_df.head())\n"
      ]
    },
    {
      "cell_type": "code",
      "source": [
        "oil_prices_df = pd.read_csv('crude-oil-price.csv')"
      ],
      "metadata": {
        "id": "jiNIIuRiz8IT"
      },
      "execution_count": null,
      "outputs": []
    },
    {
      "cell_type": "code",
      "source": [
        "oil_prices_df = oil_prices_df.rename(columns={\"date\": \"order_date\", \"price\": \"oil_price\"})\n"
      ],
      "metadata": {
        "id": "eSksulSzIbqI"
      },
      "execution_count": null,
      "outputs": []
    },
    {
      "cell_type": "code",
      "source": [
        "df[\"order_date\"] = pd.to_datetime(df[\"order_date\"], errors=\"coerce\")\n",
        "oil_prices_df[\"order_date\"] = pd.to_datetime(oil_prices_df[\"order_date\"], errors=\"coerce\")\n"
      ],
      "metadata": {
        "id": "ccoby2xAIncM"
      },
      "execution_count": null,
      "outputs": []
    },
    {
      "cell_type": "code",
      "source": [
        "oil_prices_df[\"order_date\"] = oil_prices_df[\"order_date\"].dt.tz_localize(None)\n"
      ],
      "metadata": {
        "id": "-Bs6AOzcIpxu"
      },
      "execution_count": null,
      "outputs": []
    },
    {
      "cell_type": "code",
      "source": [
        "df = df.drop(columns=[col for col in df.columns if \"oil_price\" in col], errors=\"ignore\")\n"
      ],
      "metadata": {
        "id": "eEiMycOjI75S"
      },
      "execution_count": null,
      "outputs": []
    },
    {
      "cell_type": "code",
      "source": [
        "df = df.merge(oil_prices_df[[\"order_date\", \"oil_price\"]], on=\"order_date\", how=\"left\")\n"
      ],
      "metadata": {
        "id": "fsElYKdOI7vM"
      },
      "execution_count": null,
      "outputs": []
    },
    {
      "cell_type": "code",
      "source": [
        "df = df.merge(oil_prices_df[[\"order_date\", \"oil_price\"]], on=\"order_date\", how=\"left\")\n"
      ],
      "metadata": {
        "id": "nW8Gy5tDIrMg"
      },
      "execution_count": null,
      "outputs": []
    },
    {
      "cell_type": "code",
      "source": [
        "print(df.columns)\n"
      ],
      "metadata": {
        "id": "a4wSsDgSI0V7"
      },
      "execution_count": null,
      "outputs": []
    },
    {
      "cell_type": "code",
      "source": [
        "df = df.drop(columns=[col for col in df.columns if \"oil_price\" in col], errors=\"ignore\")\n"
      ],
      "metadata": {
        "id": "hVvwbhIDJBME"
      },
      "execution_count": null,
      "outputs": []
    },
    {
      "cell_type": "code",
      "source": [
        "df = df.merge(oil_prices_df[[\"order_date\", \"oil_price\"]], on=\"order_date\", how=\"left\")\n"
      ],
      "metadata": {
        "id": "xuIiLf3NJFrb"
      },
      "execution_count": null,
      "outputs": []
    },
    {
      "cell_type": "code",
      "source": [
        "df.head()\n"
      ],
      "metadata": {
        "id": "KGXC6DJkJVwc"
      },
      "execution_count": null,
      "outputs": []
    },
    {
      "cell_type": "code",
      "source": [
        "oil_df = pd.read_csv('crude-oil-price.csv')"
      ],
      "metadata": {
        "id": "cyMTzqCWKLlR"
      },
      "execution_count": null,
      "outputs": []
    },
    {
      "cell_type": "code",
      "source": [
        "oil_df.head()"
      ],
      "metadata": {
        "id": "ooGwalWkKllr"
      },
      "execution_count": null,
      "outputs": []
    },
    {
      "cell_type": "code",
      "source": [
        "import pandas as pd\n",
        "\n",
        "# Convert date columns to datetime format\n",
        "df['order_date'] = pd.to_datetime(df['order_date'])\n",
        "oil_df['date'] = pd.to_datetime(oil_df['date'])\n",
        "\n",
        "# Extract year and month for merging\n",
        "df['year'] = df['order_date'].dt.year\n",
        "df['month'] = df['order_date'].dt.month\n",
        "\n",
        "oil_df['year'] = oil_df['date'].dt.year\n",
        "oil_df['month'] = oil_df['date'].dt.month\n",
        "\n",
        "# Merge the dataframes on year and month\n",
        "df = df.merge(oil_df[['year', 'month', 'price']], on=['year', 'month'], how='left')\n",
        "\n",
        "# Rename 'price' to 'oil_price' for clarity\n",
        "df.rename(columns={'price': 'oil_price'}, inplace=True)\n",
        "\n",
        "# Display result\n",
        "df.head()\n"
      ],
      "metadata": {
        "id": "O1maL9HNKnUi"
      },
      "execution_count": null,
      "outputs": []
    },
    {
      "cell_type": "code",
      "source": [
        "df.drop(columns=['oil_price_x',\t'oil_price_y',\t'year'], inplace=True)"
      ],
      "metadata": {
        "id": "l6E0IbPkK5RY"
      },
      "execution_count": null,
      "outputs": []
    },
    {
      "cell_type": "code",
      "source": [
        "df.head()"
      ],
      "metadata": {
        "id": "cj18YFS5LG4c"
      },
      "execution_count": null,
      "outputs": []
    },
    {
      "cell_type": "code",
      "source": [
        "inflation_df = pd.read_csv('US_inflation_rates.csv')"
      ],
      "metadata": {
        "id": "jq6xAsMCLIXv"
      },
      "execution_count": null,
      "outputs": []
    },
    {
      "cell_type": "code",
      "source": [
        "# Convert inflation_df date column to datetime format\n",
        "inflation_df['date'] = pd.to_datetime(inflation_df['date'])\n",
        "\n",
        "# Extract year and month for merging\n",
        "inflation_df['year'] = inflation_df['date'].dt.year\n",
        "inflation_df['month'] = inflation_df['date'].dt.month\n",
        "\n",
        "# Merge inflation rate into df\n",
        "df = df.merge(inflation_df[['year', 'month', 'value']], on=['year', 'month'], how='left')\n",
        "\n",
        "# Rename 'value' to 'inflation_rate' for clarity\n",
        "df.rename(columns={'value': 'inflation_rate'}, inplace=True)\n",
        "\n",
        "# Display result\n",
        "df.head()\n"
      ],
      "metadata": {
        "id": "q4ZjIlTPNoAC"
      },
      "execution_count": null,
      "outputs": []
    },
    {
      "cell_type": "code",
      "source": [
        "print(inflation_df.columns)\n"
      ],
      "metadata": {
        "id": "rcuWXmhuNxsl"
      },
      "execution_count": null,
      "outputs": []
    },
    {
      "cell_type": "code",
      "source": [
        "df['order_date'] = pd.to_datetime(df['order_date'], errors='coerce')  # Ensure datetime format\n",
        "df['year'] = df['order_date'].dt.year\n",
        "df['month'] = df['order_date'].dt.month\n"
      ],
      "metadata": {
        "id": "-j6yUAIGOTkW"
      },
      "execution_count": null,
      "outputs": []
    },
    {
      "cell_type": "code",
      "source": [
        "print(inflation_df.head())\n"
      ],
      "metadata": {
        "id": "q7OQ4ZHjOae9"
      },
      "execution_count": null,
      "outputs": []
    },
    {
      "cell_type": "code",
      "source": [
        "df = df.merge(inflation_df[['year', 'month', 'value']], on=['year', 'month'], how='left')\n",
        "df.rename(columns={'value': 'inflation_rate'}, inplace=True)\n"
      ],
      "metadata": {
        "id": "EEsM1_YwOV02"
      },
      "execution_count": null,
      "outputs": []
    },
    {
      "cell_type": "code",
      "source": [
        "df.head()"
      ],
      "metadata": {
        "id": "yzEUuui0OXzU"
      },
      "execution_count": null,
      "outputs": []
    },
    {
      "cell_type": "code",
      "source": [
        "df.drop(columns=['weather'], inplace=True)"
      ],
      "metadata": {
        "id": "X1MMtBs0aN7n"
      },
      "execution_count": null,
      "outputs": []
    },
    {
      "cell_type": "code",
      "source": [
        "df.to_csv(\"cached_oil_prices.csv\", index=False)"
      ],
      "metadata": {
        "id": "7Ze26g2zX-59"
      },
      "execution_count": null,
      "outputs": []
    }
  ],
  "metadata": {
    "colab": {
      "provenance": []
    },
    "kernelspec": {
      "display_name": "Python 3",
      "name": "python3"
    },
    "language_info": {
      "name": "python"
    }
  },
  "nbformat": 4,
  "nbformat_minor": 0
}